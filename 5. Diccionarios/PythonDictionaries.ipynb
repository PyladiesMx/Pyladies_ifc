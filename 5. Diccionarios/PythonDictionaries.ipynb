{
 "cells": [
  {
   "cell_type": "markdown",
   "metadata": {
    "deletable": true,
    "editable": true
   },
   "source": [
    "# Hashing, hash tables (tabla hash) y diccionarios en Python\n",
    "\n",
    "En esta reunión veremos brevemente una nueva estructura de datos en Python llamada diccionarios y para entender mejor su funcionalidad hablaremos un poco de unos conceptos que en ciencias de la computación se llaman *hash tables*\n",
    "\n",
    "Empezaremos con hashing y hash tables.\n",
    "\n",
    "Imagina que estás en mi cuarto y que yo soy una persona en extremo desordenada.Mi ropa está tirada en el piso, sobre las sillas, en el baño; hay platos con comida sobre la cama, mesa, fregadero; y los zapatos están debajo de la mesa, en el clóset, bajo la cama... En fin, todo una zona de desastre!! Ahora imagina que te pido que me ayudes a encontrar un anillo que quiero mostrarte. __¿Cómo lo harías? ¿Cuánto tiempo tardarías?__ \n",
    "\n",
    "Pues lo que la mayoría de la gente haría es empezar a hacer una búsqueda de uno pasando por diferentes lugares. En el mejor de los casos, asumamos que tuviste suerte y lo encontraste en el primer intento. En este caso no tuviste que gastar mucha energía ni tiempo en encontrarlo. Ahora veamos la contraparte, en el peor de los casos, lo vas a encontrar después de haber puesto de cabeza mi cuarto y haber buscado en cada rincón, debajo de cada objeto. Esta vez tuviste que invertir mucho tiempo y energía en encontrar el anillo que yo quería mostrarte (y al final ni siquiera te gustó u.u)\n",
    "\n",
    "Pensemos un momento en qué estrategia usaríamos para resolver este problema..."
   ]
  },
  {
   "cell_type": "markdown",
   "metadata": {
    "deletable": true,
    "editable": true
   },
   "source": [
    "## Tiempo para la reflexión\n",
    "\n",
    "## 3...\n",
    "\n",
    "\n",
    "## 2...\n",
    "\n",
    "\n",
    "## 1...\n"
   ]
  },
  {
   "cell_type": "markdown",
   "metadata": {
    "deletable": true,
    "editable": true
   },
   "source": [
    "Creo que todos estaríamos de acuerdo con que la solución a mi problema sería ordenar mi cuarto, pero reflexionemos acerca de lo que hacemos cuando limpiamos nuestro cuarto.\n",
    "\n",
    "Básicamente lo que haga cuando ordeno mi cuarto es algo así como crear contenedores que tengan una categoría especial de objetos, por ejemplo mi clóset es un contenedor para ropa, zapatos, calcetas, etc., mi librero es un contenedor para libros, libretas usadas, documentos, películas, videojuegos, etc., y mi tocador es un contenedor para espejo, crema, anillos, relojes, etc. A su vez, estos contenedores se pueden subdividir en nuevos contenedores, en el clóset tengo cajones para calcetas, pijamas, un espacio para zapatos y otro para colgar vestidos y chamarras.\n",
    "\n",
    "Cuando tengo todo arreglado dentro de los contenedores es más fácil para mi buscar un objeto en específico que si tuviera que buscarlo en un mar de desorden. Así si quiero mi anillo yo sé de antemano que tengo que buscar primero en el contenedor \"tocador\", luego dentro de eso hay un cajón para \"accesorios\" y dentro de ese cajón debería de ser capaz de encontrar mi anillo.\n",
    "\n",
    "Toda esta historia no es para presumir mi naturaleza desordenada, sino para explicar el concepto de hash tables.\n",
    "\n",
    "Las [hash tables (o tablas hash)](https://es.wikipedia.org/wiki/Tabla_hash) es una forma de arreglar datos de manera tal que tengamos pares de __*llaves-valores*__. Para hacerlo más claro las llaves en el ejemplo anterior serían los cajones y los valores serían las calcetas.\n",
    "\n",
    "La función principal de las tablas hash, como probablemente lo habrás inferido, es acceder de forma más eficiente a los valores. Así de sencillo...\n",
    "\n",
    "Para poder construir las tablas necesitamos de una [función hash (hashing)](https://es.wikipedia.org/wiki/Funci%C3%B3n_hash). Lo que esta función debe de ser capaz de hacer el tomar un par de elementos (llave, valor) y asignarles un espacio definido en la memoria...\n",
    "\n"
   ]
  },
  {
   "cell_type": "markdown",
   "metadata": {
    "deletable": true,
    "editable": true
   },
   "source": [
    "## ¿Qué tiene que ver todo esto con Python?\n",
    "\n",
    "Hay una implementación de tablas hash en Python y es una estructura que se llama diccionario. Justamente es lo que discutiremos hoy.\n",
    "\n",
    "Los [diccionarios en python](https://docs.python.org/3/tutorial/datastructures.html#dictionaries) son una forma de estructurar datos en los cuales vamos a encontrar elementos(valores) de acuerdo a un índice(llaves). Las llaves deben ser objetos inmutables que sean únicos, es decir que no existan dos llaves con el mismo nombre y los valores pueden ser de cualquier tipo.\n",
    "\n",
    "### Estructura de los diccionarios en Python\n",
    "\n",
    "Para que a python le quede claro que una serie de elementos son un diccionario, lo primero que tenemos que hacer es inicializarlos con las llaves __{}__. Una vez hecho esto lo que tenemos que hacer es ir escribiendo los pares llave-valor con dos puntos así `'llave':'valor'`, si queremos que nuestro diccionario tenga más de una entrada, lo que tenemos que hacer es separar con una coma cada para de llave-valor. Ejemplo de un diccionario de pares correspondientes:\n",
    "\n",
    "```python\n",
    "\n",
    "diccionario = {'Steve Jobs': 'Apple', 'Bill Gates': 'Microsoft', 'Mark Zuckerberg': 'Facebook'}\n",
    "\n",
    "```\n",
    "\n",
    "\n"
   ]
  },
  {
   "cell_type": "markdown",
   "metadata": {
    "deletable": true,
    "editable": true
   },
   "source": [
    "### Ejercicio 1\n",
    "\n",
    "Crea un diccionario con los nombres de las personas en el grupo y la edad de cada uno de ellos"
   ]
  },
  {
   "cell_type": "code",
   "execution_count": null,
   "metadata": {
    "collapsed": true,
    "deletable": true,
    "editable": true
   },
   "outputs": [],
   "source": []
  },
  {
   "cell_type": "markdown",
   "metadata": {
    "deletable": true,
    "editable": true
   },
   "source": [
    "### Ejercicio 2\n",
    "\n",
    "¿Qué pasa si hay dos personas con el mismo nombre?"
   ]
  },
  {
   "cell_type": "code",
   "execution_count": null,
   "metadata": {
    "collapsed": true,
    "deletable": true,
    "editable": true
   },
   "outputs": [],
   "source": []
  },
  {
   "cell_type": "markdown",
   "metadata": {
    "deletable": true,
    "editable": true
   },
   "source": [
    "### Ejercicio 3\n",
    "\n",
    "¿Cómo te imaginas que se declara un diccionario vacío?\n",
    "\n"
   ]
  },
  {
   "cell_type": "code",
   "execution_count": null,
   "metadata": {
    "collapsed": true,
    "deletable": true,
    "editable": true
   },
   "outputs": [],
   "source": []
  },
  {
   "cell_type": "markdown",
   "metadata": {
    "collapsed": false,
    "deletable": true,
    "editable": true
   },
   "source": [
    "## Manipulación de diccionarios\n",
    "\n",
    "Como mencionamos anteriormente las llaves en los diccionarios van a ser los índices sobre los cuales vamos a poder acceder a sus valores, por ejemplo:\n",
    "\n",
    "`diccionario[llave]`\n",
    "\n",
    "Va a darte como resultado el valor de esa llave. Así como podemos acceder a los valores, de la misma forma podemos crear nuevas entradas en los diccionarios. Por ejemplo:\n",
    "\n",
    "`diccionario[llave_nueva] = valor_nuevo`\n",
    "\n",
    "va a agregar un nuevo par de llave-valor.\n",
    "\n",
    "Las iteraciones sobre los diccionarios son iguales a las iteraciones sobre otros objetos. \n",
    "\n",
    "\n",
    "Hay algunas funciones y métodos ya implementados en diccionarios que te pueden servir para operar sobre estos. A continuación te presento una lista de cosas que puedes hacer:\n",
    "\n",
    "1. `len(diccionario)`: Esto te permite saber cuántas entradas tiene tu diccionario.\n",
    "\n",
    "2. `del diccionario[llave]`: Con esto puedes borrar un elemento específico de un diccionario.\n",
    "\n",
    "3. `diccionario.pop[llave]`:Con esto puedes hacer algo parecido pero además de quitar ese elemento del diccionario, puedes guardar el valor de esa llave en una variable.\n",
    "\n",
    "4. `diccionario.popitem()`: Con este método puedes sacar un par de llave-valor de un diccionario y esto lo hace en forma de tuple(otro tipo de estructura de datos que veremos más adelante). El par llave-valor que se obtiene es arbitrario.\n",
    "\n",
    "5. `llave in diccionario`: Esto te permite saber si una llave en específico existe en un diccionario. Es exactamente como lo hacíamos en listas y strings... Como resultado obtienes una expresión booleana que te dice True si el elemento existe y False en caso de que no exista. Funciona igual con `not in`.\n",
    "\n",
    "6. `diccionario.clear()`: Este método te permite vaciar el contenido de un diccionario.\n",
    "\n",
    "7. `diccionario.update(diccionario2)`: Te permite unir dos diccionarios, y si tienen llaves iguales, lo que hacen es tomar los valores como un set(otro tipo de estructura de datos).\n",
    "\n",
    "8. `diccionario.copy()`: Esto te resulta en una copia superficial del diccionario.\n",
    "\n",
    "9. `diccionario.keys()`: Retorna una lista de las llaves del diccionario.\n",
    "\n",
    "10. `diccionario.values()`: Retorna una lista de los valores del diccionario.\n",
    "\n",
    "Recuerda que si quieres saber que otros métodos y funciones hay simpre puedes usar el __\"?\"__ o presionar *tab* después de escribir el nombre del diccionario seguido de un punto."
   ]
  },
  {
   "cell_type": "markdown",
   "metadata": {
    "collapsed": false,
    "deletable": true,
    "editable": true
   },
   "source": [
    "### Ejercicio 4\n",
    "\n",
    "Crea una función que te de como resultado un diccionario con las cuentas de una palabra. Por ejemplo:\n",
    "\n",
    "`contador('parangaricutirimicuaro')`\n",
    "\n",
    "debe darte como resultado\n",
    "\n",
    "`{'a': 4,\n",
    " 'c': 2,\n",
    " 'g': 1,\n",
    " 'i': 4,\n",
    " 'm': 1,\n",
    " 'n': 1,\n",
    " 'o': 1,\n",
    " 'p': 1,\n",
    " 'r': 4,\n",
    " 't': 1,\n",
    " 'u': 2}`\n",
    " "
   ]
  },
  {
   "cell_type": "code",
   "execution_count": 12,
   "metadata": {
    "collapsed": false,
    "deletable": true,
    "editable": true
   },
   "outputs": [],
   "source": []
  },
  {
   "cell_type": "code",
   "execution_count": 13,
   "metadata": {
    "collapsed": false,
    "deletable": true,
    "editable": true
   },
   "outputs": [
    {
     "data": {
      "text/plain": [
       "{'a': 1, 'h': 1, 'l': 1, 'o': 1}"
      ]
     },
     "execution_count": 13,
     "metadata": {},
     "output_type": "execute_result"
    }
   ],
   "source": []
  },
  {
   "cell_type": "code",
   "execution_count": 8,
   "metadata": {
    "collapsed": false,
    "deletable": true,
    "editable": true
   },
   "outputs": [],
   "source": []
  },
  {
   "cell_type": "code",
   "execution_count": 9,
   "metadata": {
    "collapsed": false,
    "deletable": true,
    "editable": true
   },
   "outputs": [
    {
     "data": {
      "text/plain": [
       "{'a': 3, 'b': 1, 'l': 1, 'p': 1, 'r': 1}"
      ]
     },
     "execution_count": 9,
     "metadata": {},
     "output_type": "execute_result"
    }
   ],
   "source": []
  },
  {
   "cell_type": "markdown",
   "metadata": {
    "collapsed": true,
    "deletable": true,
    "editable": true
   },
   "source": [
    "### Ejercicio 5\n",
    "\n",
    "Ahora haremos una función que en lugar de contar letras en palabras, cuente palabras en textos. Para esto vamos a usar un fragmento del poema de Sor Juana Inés de la Cruz llamado \"Hombres necios\"\n",
    "\n",
    ">Hombres necios que acusáis\n",
    "a la mujer sin razón,\n",
    "sin ver que sois la ocasión\n",
    "de lo mismo que culpáis:\n",
    "\n",
    ">si con ansia sin igual\n",
    "solicitáis su desdén,\n",
    "¿por qué queréis que obren bien\n",
    "si las incitáis al mal?\n",
    "\n",
    ">Combatís su resistencia\n",
    "y luego, con gravedad,\n",
    "decís que fue liviandad\n",
    "lo que hizo la diligencia.\n",
    "\n",
    "Como pista les dejo la función `string.split()`\n",
    "\n"
   ]
  },
  {
   "cell_type": "code",
   "execution_count": 1,
   "metadata": {
    "collapsed": false,
    "deletable": true,
    "editable": true
   },
   "outputs": [],
   "source": [
    "#Código que ya preparado para tener en un string el fragmento de sor Juana\n",
    "\n",
    "sor_juana = open('sor_juana.txt', 'r').read()"
   ]
  },
  {
   "cell_type": "code",
   "execution_count": 2,
   "metadata": {
    "collapsed": false,
    "deletable": true,
    "editable": true
   },
   "outputs": [
    {
     "data": {
      "text/plain": [
       "'Hombres necios que acusáis a la mujer sin razón, sin ver que sois la ocasión de lo mismo que culpáis: si con ansia sin igual solicitáis su desdén, ¿por qué queréis que obren bien si las incitáis al mal? Combatís su resistencia y luego, con gravedad, decís que fue liviandad lo que hizo la diligencia. \\n'"
      ]
     },
     "execution_count": 2,
     "metadata": {},
     "output_type": "execute_result"
    }
   ],
   "source": [
    "sor_juana"
   ]
  },
  {
   "cell_type": "code",
   "execution_count": 2,
   "metadata": {
    "collapsed": false,
    "deletable": true,
    "editable": true
   },
   "outputs": [],
   "source": [
    "split = sor_juana.split()"
   ]
  },
  {
   "cell_type": "code",
   "execution_count": 7,
   "metadata": {
    "collapsed": false,
    "deletable": true,
    "editable": true
   },
   "outputs": [],
   "source": []
  },
  {
   "cell_type": "code",
   "execution_count": 8,
   "metadata": {
    "collapsed": false,
    "deletable": true,
    "editable": true
   },
   "outputs": [
    {
     "data": {
      "text/plain": [
       "{'Combatís': 1,\n",
       " 'Hombres': 1,\n",
       " 'a': 1,\n",
       " 'acusáis': 1,\n",
       " 'al': 1,\n",
       " 'ansia': 1,\n",
       " 'bien': 1,\n",
       " 'con': 2,\n",
       " 'culpáis:': 1,\n",
       " 'de': 1,\n",
       " 'decís': 1,\n",
       " 'desdén,': 1,\n",
       " 'diligencia.': 1,\n",
       " 'fue': 1,\n",
       " 'gravedad,': 1,\n",
       " 'hizo': 1,\n",
       " 'igual': 1,\n",
       " 'incitáis': 1,\n",
       " 'la': 3,\n",
       " 'las': 1,\n",
       " 'liviandad': 1,\n",
       " 'lo': 2,\n",
       " 'luego,': 1,\n",
       " 'mal?': 1,\n",
       " 'mismo': 1,\n",
       " 'mujer': 1,\n",
       " 'necios': 1,\n",
       " 'obren': 1,\n",
       " 'ocasión': 1,\n",
       " 'que': 6,\n",
       " 'queréis': 1,\n",
       " 'qué': 1,\n",
       " 'razón,': 1,\n",
       " 'resistencia': 1,\n",
       " 'si': 2,\n",
       " 'sin': 3,\n",
       " 'sois': 1,\n",
       " 'solicitáis': 1,\n",
       " 'su': 2,\n",
       " 'ver': 1,\n",
       " 'y': 1,\n",
       " '¿por': 1}"
      ]
     },
     "execution_count": 8,
     "metadata": {},
     "output_type": "execute_result"
    }
   ],
   "source": [
    "word_counter(split)"
   ]
  },
  {
   "cell_type": "markdown",
   "metadata": {
    "deletable": true,
    "editable": true
   },
   "source": [
    "### Bonus \n",
    "\n",
    "Las que quieran pueden hacer su código de tal modo que las mayúsculas o los signos no hagan que las palabras sean diferentes y se cuenten en dos categorías. Ejemplo\n",
    "\n",
    "*Que* es igual a *qué* por lo tanto deberían contarse como 2 y no como uno cada uno en su categoría."
   ]
  },
  {
   "cell_type": "markdown",
   "metadata": {
    "collapsed": true,
    "deletable": true,
    "editable": true
   },
   "source": [
    "### Solución propuesta por Erika Peláez\n",
    "\n",
    "Aquí hago una aclaración porque creo que es didáctico mostrar que hay muchas formas de atacar los problemas en Python. La que muestro a continuación es la más clara en cuanto a sintaxis **en el nivel** que estamos viendo. Sin embargo hay que notar que hay soluciones que ocupan menos tiempo de cómputo y por lo tanto serían las más óptimas. En [esta página](https://docs.python.org/3/library/stdtypes.html#str.translate) se encuentran las descripciones de algunas de las funciones que utilicé. [En esta otra](http://stackoverflow.com/questions/1276764/stripping-everything-but-alphanumeric-chars-from-a-string-in-python) hay unos ejemplos con otros códigos que hacen algo parecido pero vienen los tiempos que toman cada una de las estrategias.\n"
   ]
  },
  {
   "cell_type": "code",
   "execution_count": null,
   "metadata": {
    "collapsed": false,
    "deletable": true,
    "editable": true
   },
   "outputs": [],
   "source": []
  },
  {
   "cell_type": "code",
   "execution_count": null,
   "metadata": {
    "collapsed": false,
    "deletable": true,
    "editable": true
   },
   "outputs": [],
   "source": []
  },
  {
   "cell_type": "code",
   "execution_count": null,
   "metadata": {
    "collapsed": false,
    "deletable": true,
    "editable": true
   },
   "outputs": [],
   "source": []
  },
  {
   "cell_type": "code",
   "execution_count": null,
   "metadata": {
    "collapsed": false,
    "deletable": true,
    "editable": true
   },
   "outputs": [],
   "source": []
  },
  {
   "cell_type": "markdown",
   "metadata": {
    "collapsed": true,
    "deletable": true,
    "editable": true
   },
   "source": [
    "### Súper Bonus\n",
    "\n",
    "Escribe una función que te permita encriptar textos. La encriptación sería recorrer el alfabeto en un número determinado de posiciones. Por ejemplo. Digamos que tengo un string que tiene el siguiente texto.\n",
    "\n",
    "\"La fiesta es a las 5\"\n",
    "\n",
    "Lo que haré es decir que voy a mover el abecedario en 2 letras. El abecedario quedaría así:\n",
    "\n",
    "a = c,\n",
    "b = d,\n",
    "c = e,\n",
    "d = f,\n",
    "e = g,\n",
    "f = h,\n",
    "g = i,\n",
    "h = j,\n",
    "i = k,\n",
    "j = l,\n",
    "k = m,\n",
    "l = n,\n",
    "m = o,\n",
    "n = p,\n",
    "o = q,\n",
    "p = r,\n",
    "q = s,\n",
    "r = t,\n",
    "s = u,\n",
    "t = v,\n",
    "u = w,\n",
    "v = x,\n",
    "w = y,\n",
    "x = z,\n",
    "y = a,\n",
    "z = b.\n",
    "\n",
    "Por lo tanto el texto quedaría encriptado como:\n",
    "\n",
    "\"Nc hkguvc gu c ncu 5\""
   ]
  },
  {
   "cell_type": "code",
   "execution_count": null,
   "metadata": {
    "collapsed": false,
    "deletable": true,
    "editable": true
   },
   "outputs": [],
   "source": []
  },
  {
   "cell_type": "code",
   "execution_count": null,
   "metadata": {
    "collapsed": false,
    "deletable": true,
    "editable": true
   },
   "outputs": [],
   "source": []
  },
  {
   "cell_type": "code",
   "execution_count": null,
   "metadata": {
    "collapsed": false,
    "deletable": true,
    "editable": true
   },
   "outputs": [],
   "source": [
    "\n",
    "    "
   ]
  },
  {
   "cell_type": "code",
   "execution_count": null,
   "metadata": {
    "collapsed": false,
    "deletable": true,
    "editable": true
   },
   "outputs": [],
   "source": []
  },
  {
   "cell_type": "code",
   "execution_count": null,
   "metadata": {
    "collapsed": false,
    "deletable": true,
    "editable": true
   },
   "outputs": [],
   "source": []
  },
  {
   "cell_type": "code",
   "execution_count": null,
   "metadata": {
    "collapsed": false,
    "deletable": true,
    "editable": true
   },
   "outputs": [],
   "source": []
  },
  {
   "cell_type": "code",
   "execution_count": null,
   "metadata": {
    "collapsed": false,
    "deletable": true,
    "editable": true
   },
   "outputs": [],
   "source": []
  },
  {
   "cell_type": "code",
   "execution_count": null,
   "metadata": {
    "collapsed": false,
    "deletable": true,
    "editable": true
   },
   "outputs": [],
   "source": []
  },
  {
   "cell_type": "code",
   "execution_count": null,
   "metadata": {
    "collapsed": false,
    "deletable": true,
    "editable": true
   },
   "outputs": [],
   "source": []
  },
  {
   "cell_type": "code",
   "execution_count": null,
   "metadata": {
    "collapsed": true,
    "deletable": true,
    "editable": true
   },
   "outputs": [],
   "source": []
  }
 ],
 "metadata": {
  "kernelspec": {
   "display_name": "Python 3",
   "language": "python",
   "name": "python3"
  },
  "language_info": {
   "codemirror_mode": {
    "name": "ipython",
    "version": 3
   },
   "file_extension": ".py",
   "mimetype": "text/x-python",
   "name": "python",
   "nbconvert_exporter": "python",
   "pygments_lexer": "ipython3",
   "version": "3.6.0"
  }
 },
 "nbformat": 4,
 "nbformat_minor": 0
}
