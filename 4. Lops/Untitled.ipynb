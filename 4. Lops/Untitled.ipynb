{
 "cells": [
  {
   "cell_type": "markdown",
   "metadata": {
    "deletable": true,
    "editable": true
   },
   "source": [
    "# Bienvenid@s a otra sesión de Pyladies\n",
    "\n",
    "\n",
    "En esta ocasión y siguiendo con el tema de las iteraciones, lo que haremos será ver otro tipo de loops llamados **\"while\"**. Los while loops son iteraciones que ocurren mientras una condición que ponemos es verdadera y solamente cuando esta condición no se cumpl es cuando la iteración termina. Veamos un esquema.\n",
    "\n",
    "![Lógica de Python para el while loop](python_while_loop.jpg)"
   ]
  },
  {
   "cell_type": "markdown",
   "metadata": {
    "deletable": true,
    "editable": true
   },
   "source": [
    "Por ejemplo, digamos que estamos cortando manzanas de un árbol, según nuestro algoritmo, vamos a cosechar manzanas (acción a repetirse) mientras (**while**) las manzanas estén maduras (**condición**)\n",
    "\n",
    "### Ejercicio 1.\n",
    "\n",
    "Siguiendo la lógica del esquema cómo se vería nuestro algoritmo de cosecha?"
   ]
  },
  {
   "cell_type": "markdown",
   "metadata": {
    "deletable": true,
    "editable": true
   },
   "source": [
    "Como podrás darte cuenta, la iteración \"while\" es algo que hacemos cotidianamente a pesar de que no estamos conscientes de ello. Un ejemplo más aterrizado a la parte experimental que pudiéramos hacer es el aforar una solución. **¿Cómo sería el algoritmo para aforar una solución?**"
   ]
  },
  {
   "cell_type": "markdown",
   "metadata": {
    "deletable": true,
    "editable": true
   },
   "source": [
    "Ahora bien, ya que sabemos y entendemos el concepto de la iteración while, podemos empezar a ver su sintaxis en python.\n",
    "\n",
    "Para hacerle saber a Python que lo que queremos hacer es una iteración con el loop while lo que tenemos que hacer es lo siguiente:\n",
    "\n",
    "```while condición:\n",
    "        statement 1\n",
    "        statement 2\n",
    "        ...\n",
    "        statement n```\n",
    "        "
   ]
  },
  {
   "cell_type": "markdown",
   "metadata": {
    "deletable": true,
    "editable": true
   },
   "source": [
    "La sintaxis aquí es aún más fácil. Sólo tienes que recordar los dos puntos e iniciar con ```ẁhile``` para que python sepa que quieres hacer una iteración con while. Veamos que podemos hacer con esto."
   ]
  },
  {
   "cell_type": "code",
   "execution_count": null,
   "metadata": {
    "collapsed": false,
    "deletable": true,
    "editable": true
   },
   "outputs": [],
   "source": [
    "# Este codigo imprime cuántos lugares te quedan, hasta que no sobre ninguno\n",
    "\n",
    "lugares = 10\n",
    "while lugares>0:\n",
    "    lugares -= 1\n",
    "    print('te quedan {} lugares'.format(lugares))"
   ]
  },
  {
   "cell_type": "markdown",
   "metadata": {
    "deletable": true,
    "editable": true
   },
   "source": [
    "y si ahora checas la variable lugares ¿Cuál es el output?"
   ]
  },
  {
   "cell_type": "code",
   "execution_count": null,
   "metadata": {
    "collapsed": true,
    "deletable": true,
    "editable": true
   },
   "outputs": [],
   "source": []
  },
  {
   "cell_type": "markdown",
   "metadata": {
    "deletable": true,
    "editable": true
   },
   "source": [
    "Ahora te toca a tí. En teoría, todos las iteraciones son intercambiables, es decir todo lo que haces con un loop for lo puedes hacer con un loop while y viceversa. Compruéblo cambiando los ejercicios que teníamos la clase pasada pero ahora en lugar de usar un loop for, usa un loop while... just for fun!!"
   ]
  },
  {
   "cell_type": "code",
   "execution_count": null,
   "metadata": {
    "collapsed": true,
    "deletable": true,
    "editable": true
   },
   "outputs": [],
   "source": []
  }
 ],
 "metadata": {
  "kernelspec": {
   "display_name": "Python 3",
   "language": "python",
   "name": "python3"
  },
  "language_info": {
   "codemirror_mode": {
    "name": "ipython",
    "version": 3
   },
   "file_extension": ".py",
   "mimetype": "text/x-python",
   "name": "python",
   "nbconvert_exporter": "python",
   "pygments_lexer": "ipython3",
   "version": "3.5.2"
  }
 },
 "nbformat": 4,
 "nbformat_minor": 2
}
